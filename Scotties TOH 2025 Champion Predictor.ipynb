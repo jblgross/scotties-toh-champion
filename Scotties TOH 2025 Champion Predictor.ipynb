{
 "cells": [
  {
   "cell_type": "markdown",
   "id": "0a8a1a86-96fc-4165-a4de-19810e3416b3",
   "metadata": {},
   "source": [
    "## Predicting the Champion of the 2025 Scotties Tournament of Hearts in Thunder Bay, Ontario"
   ]
  },
  {
   "cell_type": "code",
   "execution_count": null,
   "id": "bdc8182a-95e2-4f7c-81e2-a89b66d72128",
   "metadata": {},
   "outputs": [],
   "source": [
    "import pandas as pd\n",
    "import shap\n",
    "import numpy as np\n",
    "from sklearn.preprocessing import MinMaxScaler \n",
    "import matplotlib.pyplot as plt\n",
    "from sklearn.ensemble import RandomForestRegressor\n",
    "from PIL import Image, ImageOps\n",
    "from sklearn.metrics import ndcg_score"
   ]
  },
  {
   "cell_type": "code",
   "execution_count": null,
   "id": "66884dc2-054c-4c73-a56e-a6e19972e829",
   "metadata": {},
   "outputs": [],
   "source": [
    "df = pd.read_csv(\"scotties_toh_raw_data.csv\")\n",
    "df.head()"
   ]
  },
  {
   "cell_type": "code",
   "execution_count": null,
   "id": "d9ce1568-e84a-4b9e-8ed9-6203f1859344",
   "metadata": {},
   "outputs": [],
   "source": [
    "#df.info()"
   ]
  },
  {
   "cell_type": "code",
   "execution_count": null,
   "id": "df64878f-9eb8-4349-ba51-3ccbaf94e094",
   "metadata": {},
   "outputs": [],
   "source": [
    "print(list(df.columns))"
   ]
  },
  {
   "cell_type": "code",
   "execution_count": null,
   "id": "08fb8d9b-d5b5-41c5-b2cd-ccbfb6c19e8a",
   "metadata": {},
   "outputs": [],
   "source": [
    "features = ['shot_percentage', 'ave_points_for', 'ave_points_against', 'ave_ends_won', 'ave_ends_lost', 'ave_blank_ends', 'ave_stolen_ends']\n",
    "print(len(features))"
   ]
  },
  {
   "cell_type": "code",
   "execution_count": null,
   "id": "fe3fca8a-0c44-4a9c-a716-49c756876732",
   "metadata": {},
   "outputs": [],
   "source": [
    "#Let x represent the training and y represent the testing\n",
    "x = df[df['year'] < 2025].copy()\n",
    "y = df[df['year'] == 2025].copy()"
   ]
  },
  {
   "cell_type": "code",
   "execution_count": null,
   "id": "07f22111-47d4-4e78-8c89-118559b8c5e7",
   "metadata": {},
   "outputs": [],
   "source": [
    "scaler = MinMaxScaler().fit(x[features])\n",
    "x[features] = scaler.transform(x[features])\n",
    "y[features] = scaler.transform(y[features])"
   ]
  },
  {
   "cell_type": "code",
   "execution_count": null,
   "id": "86ace8f2-cb9e-47aa-85db-b2054eb3618e",
   "metadata": {},
   "outputs": [],
   "source": [
    "randomForest = RandomForestRegressor(n_estimators=95, max_depth=3, min_samples_split=5, min_samples_leaf=2, random_state=5).fit(x[features], x[\"champion_share\"])"
   ]
  },
  {
   "cell_type": "code",
   "execution_count": null,
   "id": "d3212819-5289-46e5-9610-ef9738bedcc9",
   "metadata": {},
   "outputs": [],
   "source": [
    "predictions = randomForest.predict(y[features])\n",
    "predictions = pd.DataFrame(predictions, columns=[\"predicted_share\"], index=y.index)"
   ]
  },
  {
   "cell_type": "code",
   "execution_count": null,
   "id": "55cd38f2-4a3a-4951-8a1f-acd9f97cbe3d",
   "metadata": {},
   "outputs": [],
   "source": [
    "frame = pd.concat([y[[\"year\", \"team\", \"skip\", \"champion_share\"]], predictions], axis=1)\n",
    "frame.sort_values([\"year\", \"predicted_share\"], inplace=True, ascending=[False, False])"
   ]
  },
  {
   "cell_type": "code",
   "execution_count": null,
   "id": "f110890b-e417-4984-822f-448136a87c5c",
   "metadata": {},
   "outputs": [],
   "source": [
    "explainer = shap.Explainer(randomForest)\n",
    "shap_values = explainer.shap_values(y[features])\n",
    "\n",
    "feature_importance = np.abs(shap_values).mean(axis=0)\n",
    "\n",
    "imp_features = np.arange(len(features))\n",
    "imp_features_list = [features[index] for index in imp_features]\n",
    "\n",
    "shap_values_top = shap_values[:, imp_features]\n",
    "y_imp_features = y[imp_features_list]"
   ]
  },
  {
   "cell_type": "code",
   "execution_count": null,
   "id": "f3d16824-cf8b-4b0f-aa54-076756fcdef6",
   "metadata": {},
   "outputs": [],
   "source": [
    "shap.summary_plot(shap_values_top, y_imp_features, feature_names=imp_features_list, plot_type=\"bar\", color=\"firebrick\", show=False)\n",
    "\n",
    "plt.gcf().set_size_inches(10, 6)\n",
    "plt.title(\"Ordering Features with the Highest Impact on Model\")\n",
    "plt.xlabel(\"Average Impact on Model Output Magnitude\")\n",
    "plt.ylabel(\"Feature\")\n",
    "plt.show()"
   ]
  },
  {
   "cell_type": "code",
   "execution_count": null,
   "id": "1948816f-7157-4ac7-aaaa-7f8ec6996d0f",
   "metadata": {},
   "outputs": [],
   "source": [
    "print(\"Predicted Champion Share for 2025 Scotties\")\n",
    "print(frame[[\"team\", \"skip\", \"predicted_share\"]])"
   ]
  },
  {
   "cell_type": "code",
   "execution_count": null,
   "id": "d432499f-9619-4a88-958e-c78cdb5435ab",
   "metadata": {},
   "outputs": [],
   "source": [
    "# Average Precision Metric\n",
    "def find_ap(frame):\n",
    "    actual = frame.sort_values(\"champion_share\", ascending=False).head(1)\n",
    "\n",
    "    predicted = frame.sort_values(\"predicted_share\", ascending=False)\n",
    "    ps = []\n",
    "    found = 0\n",
    "    seen = 1\n",
    "    for index, row in predicted.iterrows():\n",
    "        if row[\"team\"] in actual[\"team\"].values:\n",
    "            found += 1\n",
    "            ps.append(found / seen)\n",
    "        seen += 1\n",
    "    return sum(ps) / len(ps)"
   ]
  },
  {
   "cell_type": "code",
   "execution_count": null,
   "id": "5664ba3c-12cb-440b-85ea-e138d4e9b28e",
   "metadata": {},
   "outputs": [],
   "source": [
    "all_predictions = []\n",
    "aps = []\n",
    "ndcgs = []"
   ]
  },
  {
   "cell_type": "code",
   "execution_count": null,
   "id": "fb8a96a9-03cf-47a4-a52c-af95b9b863f1",
   "metadata": {},
   "outputs": [],
   "source": [
    "#Taking the last ten years\n",
    "years = [2015,2016,2017,2018,2019,2020,2021,2022,2023,2024]"
   ]
  },
  {
   "cell_type": "code",
   "execution_count": null,
   "id": "fbd3ef6f-eaa3-44e9-b08f-9f6935ea73a8",
   "metadata": {},
   "outputs": [],
   "source": [
    "#Summarizing the Champion Average Precision metric, Champion Rank, and Normalized Discounted Cumulative Gain\n",
    "for year in years:\n",
    "    x = df[df[\"year\"] < year].copy()\n",
    "    y = df[df[\"year\"] == year].copy()\n",
    "\n",
    "    scaler = MinMaxScaler().fit(x[features])\n",
    "    x[features] = scaler.transform(x[features])\n",
    "    y[features] = scaler.transform(y[features])\n",
    "\n",
    "    randomForest.fit(x[features], x['champion_share'])\n",
    "    predictions = randomForest.predict(y[features])\n",
    "    predictions_df = pd.DataFrame(predictions, columns=[\"predicted_share\"], index=y.index)\n",
    "    frame = pd.concat([y[[\"team\", \"champion_share\", \"year\"]], predictions_df], axis=1)\n",
    "\n",
    "    frame['team/year'] = frame['team'] + ' ' + frame['year'].astype(str)\n",
    "\n",
    "    if not frame.empty:\n",
    "        all_predictions.append(frame)\n",
    "        ap = find_ap(frame)\n",
    "        aps.append(ap)\n",
    "\n",
    "        ndcg = ndcg_score(frame[\"champion_share\"].values.reshape(1, -1), predictions.reshape(1, -1))\n",
    "        ndcgs.append(ndcg)\n",
    "\n",
    "        #Champion Rank is the reciprocal of the Champion AP to give a numerical rank value\n",
    "        print((year), \"Champion AP: \", round(ap, 3), \"| Champion Rank: \", 1/(round(ap,3)), \"| NDCG: \", round(ndcg, 3))"
   ]
  },
  {
   "cell_type": "code",
   "execution_count": null,
   "id": "e29c66e0-c8d2-486d-acd8-e5797ce4178d",
   "metadata": {
    "scrolled": true
   },
   "outputs": [],
   "source": [
    "for idx, predictions in enumerate(all_predictions):\n",
    "    year = years[idx]\n",
    "    rankings = predictions.sort_values(\"predicted_share\", ascending=False).head(10)\n",
    "    \n",
    "    average_ndcg = np.mean(ndcgs)\n",
    "    average_ap = np.mean(aps)\n",
    "    \n",
    "    last_n_year_aps = aps[-10:]\n",
    "    min_ap = np.min(last_n_year_aps)\n",
    "    max_ap = np.max(last_n_year_aps)\n",
    "    print(f\"\\n{year} Top 10 Predicted Teams\")\n",
    "    print(rankings[[\"team\", \"predicted_share\", \"champion_share\"]])"
   ]
  },
  {
   "cell_type": "code",
   "execution_count": null,
   "id": "83eaede0-4a9a-44ff-80a7-ea528af8d7da",
   "metadata": {},
   "outputs": [],
   "source": [
    "print(\"Average Champion Rank:\", round(average_ap, 2), \"| NDCG:\", round(average_ndcg, 2))\n",
    "print(\"Lowest Champion Rank:\", 1/(round(min_ap, 2)))\n",
    "print(\"Highest Champion Rank:\", 1/(round(max_ap, 2)))"
   ]
  }
 ],
 "metadata": {
  "kernelspec": {
   "display_name": "Python 3 (ipykernel)",
   "language": "python",
   "name": "python3"
  },
  "language_info": {
   "codemirror_mode": {
    "name": "ipython",
    "version": 3
   },
   "file_extension": ".py",
   "mimetype": "text/x-python",
   "name": "python",
   "nbconvert_exporter": "python",
   "pygments_lexer": "ipython3",
   "version": "3.12.4"
  }
 },
 "nbformat": 4,
 "nbformat_minor": 5
}
